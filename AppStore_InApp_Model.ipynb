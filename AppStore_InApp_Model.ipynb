{
 "cells": [
  {
   "cell_type": "markdown",
   "metadata": {},
   "source": [
    "# This Script uses the transaction data output from the sql script and performs data exploration, visualization and builds/ evaluates the model to predict in-app purchases"
   ]
  },
  {
   "cell_type": "code",
   "execution_count": null,
   "metadata": {},
   "outputs": [],
   "source": [
    "# Imports all the required packages\n",
    "import pandas as pd\n",
    "import numpy as np\n",
    "import seaborn as sns\n",
    "import statsmodels.api as sm\n",
    "import matplotlib.pyplot as plt\n",
    "from sklearn.model_selection import train_test_split\n",
    "from sklearn.linear_model import LogisticRegression\n",
    "import statsmodels.formula.api as smf\n",
    "from sklearn import metrics\n",
    "from sklearn.metrics import roc_auc_score\n",
    "from sklearn.metrics import roc_curve"
   ]
  },
  {
   "cell_type": "code",
   "execution_count": 73,
   "metadata": {},
   "outputs": [
    {
     "data": {
      "text/html": [
       "<div>\n",
       "<style scoped>\n",
       "    .dataframe tbody tr th:only-of-type {\n",
       "        vertical-align: middle;\n",
       "    }\n",
       "\n",
       "    .dataframe tbody tr th {\n",
       "        vertical-align: top;\n",
       "    }\n",
       "\n",
       "    .dataframe thead th {\n",
       "        text-align: right;\n",
       "    }\n",
       "</style>\n",
       "<table border=\"1\" class=\"dataframe\">\n",
       "  <thead>\n",
       "    <tr style=\"text-align: right;\">\n",
       "      <th></th>\n",
       "      <th>trans_dt</th>\n",
       "      <th>content_id</th>\n",
       "      <th>acct_id</th>\n",
       "      <th>price</th>\n",
       "      <th>device_id</th>\n",
       "      <th>acc_create_dt</th>\n",
       "      <th>payment_type</th>\n",
       "      <th>app_name</th>\n",
       "      <th>inapp_content_type</th>\n",
       "      <th>device_name</th>\n",
       "      <th>category_name</th>\n",
       "      <th>account_tenure_days</th>\n",
       "      <th>account_tenure_mons</th>\n",
       "      <th>acct_app_cnt</th>\n",
       "      <th>trans_dow</th>\n",
       "      <th>target</th>\n",
       "    </tr>\n",
       "  </thead>\n",
       "  <tbody>\n",
       "    <tr>\n",
       "      <td>0</td>\n",
       "      <td>2016-08-08</td>\n",
       "      <td>17e0c1e969116a03</td>\n",
       "      <td>79da9b974adb5170</td>\n",
       "      <td>9.99</td>\n",
       "      <td>1</td>\n",
       "      <td>2011-07-10</td>\n",
       "      <td>PMOF</td>\n",
       "      <td>heeling encasing</td>\n",
       "      <td>consumable</td>\n",
       "      <td>iPhone</td>\n",
       "      <td>Games</td>\n",
       "      <td>1856.0</td>\n",
       "      <td>61.0</td>\n",
       "      <td>121</td>\n",
       "      <td>1</td>\n",
       "      <td>1</td>\n",
       "    </tr>\n",
       "    <tr>\n",
       "      <td>1</td>\n",
       "      <td>2016-07-16</td>\n",
       "      <td>1cda80e5e86fb8f4</td>\n",
       "      <td>edf658f95a57d01e</td>\n",
       "      <td>1.99</td>\n",
       "      <td>1</td>\n",
       "      <td>2008-07-28</td>\n",
       "      <td>PMOF</td>\n",
       "      <td>mornings belongs</td>\n",
       "      <td>consumable</td>\n",
       "      <td>iPhone</td>\n",
       "      <td>Utilities</td>\n",
       "      <td>2910.0</td>\n",
       "      <td>96.0</td>\n",
       "      <td>127</td>\n",
       "      <td>6</td>\n",
       "      <td>1</td>\n",
       "    </tr>\n",
       "    <tr>\n",
       "      <td>2</td>\n",
       "      <td>2016-09-07</td>\n",
       "      <td>399687a848bd38fe</td>\n",
       "      <td>14212c12e2e3a939</td>\n",
       "      <td>1.99</td>\n",
       "      <td>1</td>\n",
       "      <td>2010-01-28</td>\n",
       "      <td>PMOF</td>\n",
       "      <td>Captain; mission</td>\n",
       "      <td>consumable</td>\n",
       "      <td>iPhone</td>\n",
       "      <td>Photos &amp; Videos</td>\n",
       "      <td>2414.0</td>\n",
       "      <td>80.0</td>\n",
       "      <td>112</td>\n",
       "      <td>3</td>\n",
       "      <td>1</td>\n",
       "    </tr>\n",
       "    <tr>\n",
       "      <td>3</td>\n",
       "      <td>2016-08-10</td>\n",
       "      <td>64b6a16f215a1d03</td>\n",
       "      <td>a9bac30a1cadd3d6</td>\n",
       "      <td>9.99</td>\n",
       "      <td>2</td>\n",
       "      <td>2011-03-09</td>\n",
       "      <td>PMOF</td>\n",
       "      <td>other--Jack proceed</td>\n",
       "      <td>consumable</td>\n",
       "      <td>iPad</td>\n",
       "      <td>Games</td>\n",
       "      <td>1981.0</td>\n",
       "      <td>65.0</td>\n",
       "      <td>122</td>\n",
       "      <td>3</td>\n",
       "      <td>1</td>\n",
       "    </tr>\n",
       "    <tr>\n",
       "      <td>4</td>\n",
       "      <td>2016-08-19</td>\n",
       "      <td>efd255fcbe2c2aa1</td>\n",
       "      <td>7e44f5992893eeca</td>\n",
       "      <td>0.00</td>\n",
       "      <td>1</td>\n",
       "      <td>2015-01-29</td>\n",
       "      <td>Free only</td>\n",
       "      <td>adjacent below!</td>\n",
       "      <td>NaN</td>\n",
       "      <td>iPhone</td>\n",
       "      <td>Utilities</td>\n",
       "      <td>568.0</td>\n",
       "      <td>19.0</td>\n",
       "      <td>70</td>\n",
       "      <td>5</td>\n",
       "      <td>0</td>\n",
       "    </tr>\n",
       "    <tr>\n",
       "      <td>...</td>\n",
       "      <td>...</td>\n",
       "      <td>...</td>\n",
       "      <td>...</td>\n",
       "      <td>...</td>\n",
       "      <td>...</td>\n",
       "      <td>...</td>\n",
       "      <td>...</td>\n",
       "      <td>...</td>\n",
       "      <td>...</td>\n",
       "      <td>...</td>\n",
       "      <td>...</td>\n",
       "      <td>...</td>\n",
       "      <td>...</td>\n",
       "      <td>...</td>\n",
       "      <td>...</td>\n",
       "      <td>...</td>\n",
       "    </tr>\n",
       "    <tr>\n",
       "      <td>3605239</td>\n",
       "      <td>2016-06-18</td>\n",
       "      <td>c06e16251214ebcd</td>\n",
       "      <td>0151d17f20b05841</td>\n",
       "      <td>0.00</td>\n",
       "      <td>2</td>\n",
       "      <td>2016-11-03</td>\n",
       "      <td>Free only</td>\n",
       "      <td>attempt princes</td>\n",
       "      <td>NaN</td>\n",
       "      <td>iPad</td>\n",
       "      <td>Games</td>\n",
       "      <td>-138.0</td>\n",
       "      <td>-5.0</td>\n",
       "      <td>64</td>\n",
       "      <td>6</td>\n",
       "      <td>0</td>\n",
       "    </tr>\n",
       "    <tr>\n",
       "      <td>3605240</td>\n",
       "      <td>2016-06-29</td>\n",
       "      <td>dc3c7e21d2653ce8</td>\n",
       "      <td>10231e54806f485d</td>\n",
       "      <td>25.99</td>\n",
       "      <td>2</td>\n",
       "      <td>2009-09-06</td>\n",
       "      <td>PMOF</td>\n",
       "      <td>unwritten hungry</td>\n",
       "      <td>consumable</td>\n",
       "      <td>iPad</td>\n",
       "      <td>Games</td>\n",
       "      <td>2488.0</td>\n",
       "      <td>81.0</td>\n",
       "      <td>124</td>\n",
       "      <td>3</td>\n",
       "      <td>1</td>\n",
       "    </tr>\n",
       "    <tr>\n",
       "      <td>3605241</td>\n",
       "      <td>2016-08-20</td>\n",
       "      <td>0ceab364ddb9372d</td>\n",
       "      <td>a1af03716d6b77cf</td>\n",
       "      <td>0.00</td>\n",
       "      <td>1</td>\n",
       "      <td>2012-07-13</td>\n",
       "      <td>PMOF</td>\n",
       "      <td>profoundest who</td>\n",
       "      <td>NaN</td>\n",
       "      <td>iPhone</td>\n",
       "      <td>Games</td>\n",
       "      <td>1499.0</td>\n",
       "      <td>49.0</td>\n",
       "      <td>121</td>\n",
       "      <td>6</td>\n",
       "      <td>0</td>\n",
       "    </tr>\n",
       "    <tr>\n",
       "      <td>3605242</td>\n",
       "      <td>2016-09-21</td>\n",
       "      <td>9c7aa1e9811bf304</td>\n",
       "      <td>965fb583a344769f</td>\n",
       "      <td>0.00</td>\n",
       "      <td>1</td>\n",
       "      <td>2013-02-23</td>\n",
       "      <td>Free only</td>\n",
       "      <td>mad--Starbuck kinds</td>\n",
       "      <td>NaN</td>\n",
       "      <td>iPhone</td>\n",
       "      <td>Games</td>\n",
       "      <td>1306.0</td>\n",
       "      <td>43.0</td>\n",
       "      <td>64</td>\n",
       "      <td>3</td>\n",
       "      <td>0</td>\n",
       "    </tr>\n",
       "    <tr>\n",
       "      <td>3605243</td>\n",
       "      <td>2016-06-05</td>\n",
       "      <td>db0f5f756929adb2</td>\n",
       "      <td>f7d839659b93cf5b</td>\n",
       "      <td>23.99</td>\n",
       "      <td>2</td>\n",
       "      <td>2009-03-16</td>\n",
       "      <td>PMOF</td>\n",
       "      <td>unwritten hungry</td>\n",
       "      <td>consumable</td>\n",
       "      <td>iPad</td>\n",
       "      <td>Games</td>\n",
       "      <td>2638.0</td>\n",
       "      <td>87.0</td>\n",
       "      <td>119</td>\n",
       "      <td>0</td>\n",
       "      <td>1</td>\n",
       "    </tr>\n",
       "  </tbody>\n",
       "</table>\n",
       "<p>3605244 rows × 16 columns</p>\n",
       "</div>"
      ],
      "text/plain": [
       "           trans_dt        content_id           acct_id  price  device_id  \\\n",
       "0        2016-08-08  17e0c1e969116a03  79da9b974adb5170   9.99          1   \n",
       "1        2016-07-16  1cda80e5e86fb8f4  edf658f95a57d01e   1.99          1   \n",
       "2        2016-09-07  399687a848bd38fe  14212c12e2e3a939   1.99          1   \n",
       "3        2016-08-10  64b6a16f215a1d03  a9bac30a1cadd3d6   9.99          2   \n",
       "4        2016-08-19  efd255fcbe2c2aa1  7e44f5992893eeca   0.00          1   \n",
       "...             ...               ...               ...    ...        ...   \n",
       "3605239  2016-06-18  c06e16251214ebcd  0151d17f20b05841   0.00          2   \n",
       "3605240  2016-06-29  dc3c7e21d2653ce8  10231e54806f485d  25.99          2   \n",
       "3605241  2016-08-20  0ceab364ddb9372d  a1af03716d6b77cf   0.00          1   \n",
       "3605242  2016-09-21  9c7aa1e9811bf304  965fb583a344769f   0.00          1   \n",
       "3605243  2016-06-05  db0f5f756929adb2  f7d839659b93cf5b  23.99          2   \n",
       "\n",
       "        acc_create_dt payment_type             app_name inapp_content_type  \\\n",
       "0          2011-07-10         PMOF     heeling encasing         consumable   \n",
       "1          2008-07-28         PMOF     mornings belongs         consumable   \n",
       "2          2010-01-28         PMOF     Captain; mission         consumable   \n",
       "3          2011-03-09         PMOF  other--Jack proceed         consumable   \n",
       "4          2015-01-29    Free only      adjacent below!                NaN   \n",
       "...               ...          ...                  ...                ...   \n",
       "3605239    2016-11-03    Free only      attempt princes                NaN   \n",
       "3605240    2009-09-06         PMOF     unwritten hungry         consumable   \n",
       "3605241    2012-07-13         PMOF      profoundest who                NaN   \n",
       "3605242    2013-02-23    Free only  mad--Starbuck kinds                NaN   \n",
       "3605243    2009-03-16         PMOF     unwritten hungry         consumable   \n",
       "\n",
       "        device_name    category_name  account_tenure_days  \\\n",
       "0            iPhone            Games               1856.0   \n",
       "1            iPhone        Utilities               2910.0   \n",
       "2            iPhone  Photos & Videos               2414.0   \n",
       "3              iPad            Games               1981.0   \n",
       "4            iPhone        Utilities                568.0   \n",
       "...             ...              ...                  ...   \n",
       "3605239        iPad            Games               -138.0   \n",
       "3605240        iPad            Games               2488.0   \n",
       "3605241      iPhone            Games               1499.0   \n",
       "3605242      iPhone            Games               1306.0   \n",
       "3605243        iPad            Games               2638.0   \n",
       "\n",
       "         account_tenure_mons  acct_app_cnt  trans_dow  target  \n",
       "0                       61.0           121          1       1  \n",
       "1                       96.0           127          6       1  \n",
       "2                       80.0           112          3       1  \n",
       "3                       65.0           122          3       1  \n",
       "4                       19.0            70          5       0  \n",
       "...                      ...           ...        ...     ...  \n",
       "3605239                 -5.0            64          6       0  \n",
       "3605240                 81.0           124          3       1  \n",
       "3605241                 49.0           121          6       0  \n",
       "3605242                 43.0            64          3       0  \n",
       "3605243                 87.0           119          0       1  \n",
       "\n",
       "[3605244 rows x 16 columns]"
      ]
     },
     "execution_count": 73,
     "metadata": {},
     "output_type": "execute_result"
    }
   ],
   "source": [
    "# Read the csv data and convert it into pandas data frame\n",
    "trans_dat=pd.read_csv(\"/Users/bmolaka/Desktop/desktop/Apple-DS/dummy_trans_data.txt\", sep=\"\\t\")\n",
    "trans_dat"
   ]
  },
  {
   "cell_type": "code",
   "execution_count": 31,
   "metadata": {},
   "outputs": [
    {
     "name": "stdout",
     "output_type": "stream",
     "text": [
      "trans_dt\n",
      "content_id\n",
      "acct_id\n",
      "price\n",
      "device_id\n",
      "acc_create_dt\n",
      "payment_type\n",
      "app_name\n",
      "inapp_content_type\n",
      "device_name\n",
      "category_name\n",
      "account_tenure_days\n",
      "account_tenure_mons\n",
      "acct_app_cnt\n",
      "trans_dow\n",
      "target\n"
     ]
    }
   ],
   "source": [
    "# check for the list of all columns in the data set\n",
    "for col in trans_dat.columns:\n",
    "    print(col)"
   ]
  },
  {
   "cell_type": "code",
   "execution_count": 76,
   "metadata": {},
   "outputs": [
    {
     "data": {
      "text/plain": [
       "trans_dt                object\n",
       "content_id              object\n",
       "acct_id                 object\n",
       "price                  float64\n",
       "device_id                int64\n",
       "acc_create_dt           object\n",
       "payment_type            object\n",
       "app_name                object\n",
       "inapp_content_type      object\n",
       "device_name             object\n",
       "category_name           object\n",
       "account_tenure_days    float64\n",
       "account_tenure_mons    float64\n",
       "acct_app_cnt             int64\n",
       "trans_dow                int64\n",
       "target                   int64\n",
       "dtype: object"
      ]
     },
     "execution_count": 76,
     "metadata": {},
     "output_type": "execute_result"
    }
   ],
   "source": [
    "# check for the data types of the columns \n",
    "trans_dat.dtypes"
   ]
  },
  {
   "cell_type": "code",
   "execution_count": 142,
   "metadata": {},
   "outputs": [],
   "source": [
    "#convert the numeroc columns onto categorical\n",
    "trans_dat[\"target\"] = trans_dat['target'].astype(str)\n",
    "trans_dat[\"trans_dow\"] = trans_dat['trans_dow'].astype(str)"
   ]
  },
  {
   "cell_type": "code",
   "execution_count": 101,
   "metadata": {},
   "outputs": [
    {
     "data": {
      "text/html": [
       "<div>\n",
       "<style scoped>\n",
       "    .dataframe tbody tr th:only-of-type {\n",
       "        vertical-align: middle;\n",
       "    }\n",
       "\n",
       "    .dataframe tbody tr th {\n",
       "        vertical-align: top;\n",
       "    }\n",
       "\n",
       "    .dataframe thead th {\n",
       "        text-align: right;\n",
       "    }\n",
       "</style>\n",
       "<table border=\"1\" class=\"dataframe\">\n",
       "  <thead>\n",
       "    <tr style=\"text-align: right;\">\n",
       "      <th></th>\n",
       "      <th>price</th>\n",
       "      <th>device_id</th>\n",
       "      <th>account_tenure_days</th>\n",
       "      <th>account_tenure_mons</th>\n",
       "      <th>acct_app_cnt</th>\n",
       "    </tr>\n",
       "  </thead>\n",
       "  <tbody>\n",
       "    <tr>\n",
       "      <td>count</td>\n",
       "      <td>3.605244e+06</td>\n",
       "      <td>3.605244e+06</td>\n",
       "      <td>3.602503e+06</td>\n",
       "      <td>3.602503e+06</td>\n",
       "      <td>3.605244e+06</td>\n",
       "    </tr>\n",
       "    <tr>\n",
       "      <td>mean</td>\n",
       "      <td>5.281519e+00</td>\n",
       "      <td>1.275359e+00</td>\n",
       "      <td>1.773465e+03</td>\n",
       "      <td>5.829040e+01</td>\n",
       "      <td>1.173316e+02</td>\n",
       "    </tr>\n",
       "    <tr>\n",
       "      <td>std</td>\n",
       "      <td>6.960603e+00</td>\n",
       "      <td>4.466953e-01</td>\n",
       "      <td>1.004061e+03</td>\n",
       "      <td>3.298832e+01</td>\n",
       "      <td>7.092423e+01</td>\n",
       "    </tr>\n",
       "    <tr>\n",
       "      <td>min</td>\n",
       "      <td>0.000000e+00</td>\n",
       "      <td>1.000000e+00</td>\n",
       "      <td>-4.210000e+02</td>\n",
       "      <td>-1.300000e+01</td>\n",
       "      <td>4.000000e+01</td>\n",
       "    </tr>\n",
       "    <tr>\n",
       "      <td>25%</td>\n",
       "      <td>0.000000e+00</td>\n",
       "      <td>1.000000e+00</td>\n",
       "      <td>1.038000e+03</td>\n",
       "      <td>3.400000e+01</td>\n",
       "      <td>7.100000e+01</td>\n",
       "    </tr>\n",
       "    <tr>\n",
       "      <td>50%</td>\n",
       "      <td>1.990000e+00</td>\n",
       "      <td>1.000000e+00</td>\n",
       "      <td>1.923000e+03</td>\n",
       "      <td>6.300000e+01</td>\n",
       "      <td>1.140000e+02</td>\n",
       "    </tr>\n",
       "    <tr>\n",
       "      <td>75%</td>\n",
       "      <td>7.990000e+00</td>\n",
       "      <td>2.000000e+00</td>\n",
       "      <td>2.601000e+03</td>\n",
       "      <td>8.500000e+01</td>\n",
       "      <td>1.240000e+02</td>\n",
       "    </tr>\n",
       "    <tr>\n",
       "      <td>max</td>\n",
       "      <td>2.999000e+01</td>\n",
       "      <td>2.000000e+00</td>\n",
       "      <td>3.344000e+03</td>\n",
       "      <td>1.100000e+02</td>\n",
       "      <td>4.140000e+02</td>\n",
       "    </tr>\n",
       "  </tbody>\n",
       "</table>\n",
       "</div>"
      ],
      "text/plain": [
       "              price     device_id  account_tenure_days  account_tenure_mons  \\\n",
       "count  3.605244e+06  3.605244e+06         3.602503e+06         3.602503e+06   \n",
       "mean   5.281519e+00  1.275359e+00         1.773465e+03         5.829040e+01   \n",
       "std    6.960603e+00  4.466953e-01         1.004061e+03         3.298832e+01   \n",
       "min    0.000000e+00  1.000000e+00        -4.210000e+02        -1.300000e+01   \n",
       "25%    0.000000e+00  1.000000e+00         1.038000e+03         3.400000e+01   \n",
       "50%    1.990000e+00  1.000000e+00         1.923000e+03         6.300000e+01   \n",
       "75%    7.990000e+00  2.000000e+00         2.601000e+03         8.500000e+01   \n",
       "max    2.999000e+01  2.000000e+00         3.344000e+03         1.100000e+02   \n",
       "\n",
       "       acct_app_cnt  \n",
       "count  3.605244e+06  \n",
       "mean   1.173316e+02  \n",
       "std    7.092423e+01  \n",
       "min    4.000000e+01  \n",
       "25%    7.100000e+01  \n",
       "50%    1.140000e+02  \n",
       "75%    1.240000e+02  \n",
       "max    4.140000e+02  "
      ]
     },
     "execution_count": 101,
     "metadata": {},
     "output_type": "execute_result"
    }
   ],
   "source": [
    "# Descriptive stats for all numeric columns\n",
    "trans_dat.describe() "
   ]
  },
  {
   "cell_type": "code",
   "execution_count": 102,
   "metadata": {},
   "outputs": [
    {
     "data": {
      "text/html": [
       "<div>\n",
       "<style scoped>\n",
       "    .dataframe tbody tr th:only-of-type {\n",
       "        vertical-align: middle;\n",
       "    }\n",
       "\n",
       "    .dataframe tbody tr th {\n",
       "        vertical-align: top;\n",
       "    }\n",
       "\n",
       "    .dataframe thead th {\n",
       "        text-align: right;\n",
       "    }\n",
       "</style>\n",
       "<table border=\"1\" class=\"dataframe\">\n",
       "  <thead>\n",
       "    <tr style=\"text-align: right;\">\n",
       "      <th></th>\n",
       "      <th>trans_dt</th>\n",
       "      <th>content_id</th>\n",
       "      <th>acct_id</th>\n",
       "      <th>acc_create_dt</th>\n",
       "      <th>payment_type</th>\n",
       "      <th>app_name</th>\n",
       "      <th>inapp_content_type</th>\n",
       "      <th>device_name</th>\n",
       "      <th>category_name</th>\n",
       "      <th>trans_dow</th>\n",
       "      <th>target</th>\n",
       "    </tr>\n",
       "  </thead>\n",
       "  <tbody>\n",
       "    <tr>\n",
       "      <td>count</td>\n",
       "      <td>3605244</td>\n",
       "      <td>3605244</td>\n",
       "      <td>3605244</td>\n",
       "      <td>3602503</td>\n",
       "      <td>3602503</td>\n",
       "      <td>3605244</td>\n",
       "      <td>2012288</td>\n",
       "      <td>3605244</td>\n",
       "      <td>3605244</td>\n",
       "      <td>3605244</td>\n",
       "      <td>3605244</td>\n",
       "    </tr>\n",
       "    <tr>\n",
       "      <td>unique</td>\n",
       "      <td>110</td>\n",
       "      <td>2913</td>\n",
       "      <td>30000</td>\n",
       "      <td>3653</td>\n",
       "      <td>2</td>\n",
       "      <td>997</td>\n",
       "      <td>2</td>\n",
       "      <td>2</td>\n",
       "      <td>5</td>\n",
       "      <td>7</td>\n",
       "      <td>2</td>\n",
       "    </tr>\n",
       "    <tr>\n",
       "      <td>top</td>\n",
       "      <td>2016-07-04</td>\n",
       "      <td>d9ac236641bd3859</td>\n",
       "      <td>025488c9dcfdee47</td>\n",
       "      <td>2011-07-31</td>\n",
       "      <td>PMOF</td>\n",
       "      <td>unwritten hungry</td>\n",
       "      <td>consumable</td>\n",
       "      <td>iPhone</td>\n",
       "      <td>Games</td>\n",
       "      <td>0</td>\n",
       "      <td>1</td>\n",
       "    </tr>\n",
       "    <tr>\n",
       "      <td>freq</td>\n",
       "      <td>36886</td>\n",
       "      <td>11943</td>\n",
       "      <td>1353</td>\n",
       "      <td>4423</td>\n",
       "      <td>2436591</td>\n",
       "      <td>64492</td>\n",
       "      <td>1821025</td>\n",
       "      <td>2612506</td>\n",
       "      <td>1698699</td>\n",
       "      <td>540676</td>\n",
       "      <td>2012288</td>\n",
       "    </tr>\n",
       "  </tbody>\n",
       "</table>\n",
       "</div>"
      ],
      "text/plain": [
       "          trans_dt        content_id           acct_id acc_create_dt  \\\n",
       "count      3605244           3605244           3605244       3602503   \n",
       "unique         110              2913             30000          3653   \n",
       "top     2016-07-04  d9ac236641bd3859  025488c9dcfdee47    2011-07-31   \n",
       "freq         36886             11943              1353          4423   \n",
       "\n",
       "       payment_type          app_name inapp_content_type device_name  \\\n",
       "count       3602503           3605244            2012288     3605244   \n",
       "unique            2               997                  2           2   \n",
       "top            PMOF  unwritten hungry         consumable      iPhone   \n",
       "freq        2436591             64492            1821025     2612506   \n",
       "\n",
       "       category_name trans_dow   target  \n",
       "count        3605244   3605244  3605244  \n",
       "unique             5         7        2  \n",
       "top            Games         0        1  \n",
       "freq         1698699    540676  2012288  "
      ]
     },
     "execution_count": 102,
     "metadata": {},
     "output_type": "execute_result"
    }
   ],
   "source": [
    "# Descriptive stats for all categorical columns\n",
    "trans_dat.describe(include = 'object') "
   ]
  },
  {
   "cell_type": "code",
   "execution_count": 103,
   "metadata": {},
   "outputs": [
    {
     "data": {
      "text/html": [
       "<div>\n",
       "<style scoped>\n",
       "    .dataframe tbody tr th:only-of-type {\n",
       "        vertical-align: middle;\n",
       "    }\n",
       "\n",
       "    .dataframe tbody tr th {\n",
       "        vertical-align: top;\n",
       "    }\n",
       "\n",
       "    .dataframe thead th {\n",
       "        text-align: right;\n",
       "    }\n",
       "</style>\n",
       "<table border=\"1\" class=\"dataframe\">\n",
       "  <thead>\n",
       "    <tr style=\"text-align: right;\">\n",
       "      <th></th>\n",
       "      <th>account_tenure_mons</th>\n",
       "      <th>price</th>\n",
       "      <th>acct_app_cnt</th>\n",
       "      <th>device_name</th>\n",
       "      <th>category_name</th>\n",
       "      <th>payment_type</th>\n",
       "      <th>trans_dow</th>\n",
       "      <th>target</th>\n",
       "    </tr>\n",
       "  </thead>\n",
       "  <tbody>\n",
       "    <tr>\n",
       "      <td>0</td>\n",
       "      <td>61.0</td>\n",
       "      <td>9.99</td>\n",
       "      <td>121</td>\n",
       "      <td>iPhone</td>\n",
       "      <td>Games</td>\n",
       "      <td>PMOF</td>\n",
       "      <td>1</td>\n",
       "      <td>1</td>\n",
       "    </tr>\n",
       "    <tr>\n",
       "      <td>1</td>\n",
       "      <td>96.0</td>\n",
       "      <td>1.99</td>\n",
       "      <td>127</td>\n",
       "      <td>iPhone</td>\n",
       "      <td>Utilities</td>\n",
       "      <td>PMOF</td>\n",
       "      <td>6</td>\n",
       "      <td>1</td>\n",
       "    </tr>\n",
       "    <tr>\n",
       "      <td>2</td>\n",
       "      <td>80.0</td>\n",
       "      <td>1.99</td>\n",
       "      <td>112</td>\n",
       "      <td>iPhone</td>\n",
       "      <td>Photos &amp; Videos</td>\n",
       "      <td>PMOF</td>\n",
       "      <td>3</td>\n",
       "      <td>1</td>\n",
       "    </tr>\n",
       "    <tr>\n",
       "      <td>3</td>\n",
       "      <td>65.0</td>\n",
       "      <td>9.99</td>\n",
       "      <td>122</td>\n",
       "      <td>iPad</td>\n",
       "      <td>Games</td>\n",
       "      <td>PMOF</td>\n",
       "      <td>3</td>\n",
       "      <td>1</td>\n",
       "    </tr>\n",
       "    <tr>\n",
       "      <td>4</td>\n",
       "      <td>19.0</td>\n",
       "      <td>0.00</td>\n",
       "      <td>70</td>\n",
       "      <td>iPhone</td>\n",
       "      <td>Utilities</td>\n",
       "      <td>Free only</td>\n",
       "      <td>5</td>\n",
       "      <td>0</td>\n",
       "    </tr>\n",
       "    <tr>\n",
       "      <td>...</td>\n",
       "      <td>...</td>\n",
       "      <td>...</td>\n",
       "      <td>...</td>\n",
       "      <td>...</td>\n",
       "      <td>...</td>\n",
       "      <td>...</td>\n",
       "      <td>...</td>\n",
       "      <td>...</td>\n",
       "    </tr>\n",
       "    <tr>\n",
       "      <td>3605239</td>\n",
       "      <td>-5.0</td>\n",
       "      <td>0.00</td>\n",
       "      <td>64</td>\n",
       "      <td>iPad</td>\n",
       "      <td>Games</td>\n",
       "      <td>Free only</td>\n",
       "      <td>6</td>\n",
       "      <td>0</td>\n",
       "    </tr>\n",
       "    <tr>\n",
       "      <td>3605240</td>\n",
       "      <td>81.0</td>\n",
       "      <td>25.99</td>\n",
       "      <td>124</td>\n",
       "      <td>iPad</td>\n",
       "      <td>Games</td>\n",
       "      <td>PMOF</td>\n",
       "      <td>3</td>\n",
       "      <td>1</td>\n",
       "    </tr>\n",
       "    <tr>\n",
       "      <td>3605241</td>\n",
       "      <td>49.0</td>\n",
       "      <td>0.00</td>\n",
       "      <td>121</td>\n",
       "      <td>iPhone</td>\n",
       "      <td>Games</td>\n",
       "      <td>PMOF</td>\n",
       "      <td>6</td>\n",
       "      <td>0</td>\n",
       "    </tr>\n",
       "    <tr>\n",
       "      <td>3605242</td>\n",
       "      <td>43.0</td>\n",
       "      <td>0.00</td>\n",
       "      <td>64</td>\n",
       "      <td>iPhone</td>\n",
       "      <td>Games</td>\n",
       "      <td>Free only</td>\n",
       "      <td>3</td>\n",
       "      <td>0</td>\n",
       "    </tr>\n",
       "    <tr>\n",
       "      <td>3605243</td>\n",
       "      <td>87.0</td>\n",
       "      <td>23.99</td>\n",
       "      <td>119</td>\n",
       "      <td>iPad</td>\n",
       "      <td>Games</td>\n",
       "      <td>PMOF</td>\n",
       "      <td>0</td>\n",
       "      <td>1</td>\n",
       "    </tr>\n",
       "  </tbody>\n",
       "</table>\n",
       "<p>3605244 rows × 8 columns</p>\n",
       "</div>"
      ],
      "text/plain": [
       "         account_tenure_mons  price  acct_app_cnt device_name  \\\n",
       "0                       61.0   9.99           121      iPhone   \n",
       "1                       96.0   1.99           127      iPhone   \n",
       "2                       80.0   1.99           112      iPhone   \n",
       "3                       65.0   9.99           122        iPad   \n",
       "4                       19.0   0.00            70      iPhone   \n",
       "...                      ...    ...           ...         ...   \n",
       "3605239                 -5.0   0.00            64        iPad   \n",
       "3605240                 81.0  25.99           124        iPad   \n",
       "3605241                 49.0   0.00           121      iPhone   \n",
       "3605242                 43.0   0.00            64      iPhone   \n",
       "3605243                 87.0  23.99           119        iPad   \n",
       "\n",
       "           category_name payment_type trans_dow target  \n",
       "0                  Games         PMOF         1      1  \n",
       "1              Utilities         PMOF         6      1  \n",
       "2        Photos & Videos         PMOF         3      1  \n",
       "3                  Games         PMOF         3      1  \n",
       "4              Utilities    Free only         5      0  \n",
       "...                  ...          ...       ...    ...  \n",
       "3605239            Games    Free only         6      0  \n",
       "3605240            Games         PMOF         3      1  \n",
       "3605241            Games         PMOF         6      0  \n",
       "3605242            Games    Free only         3      0  \n",
       "3605243            Games         PMOF         0      1  \n",
       "\n",
       "[3605244 rows x 8 columns]"
      ]
     },
     "execution_count": 103,
     "metadata": {},
     "output_type": "execute_result"
    }
   ],
   "source": [
    "# select the columns to be including for modeling purpose. exclude date columns and primary keys\n",
    "dataset = trans_dat[[\"account_tenure_mons\", \"price\",\"acct_app_cnt\",\"device_name\",\"category_name\",\"payment_type\",\"trans_dow\",\"target\"]]\n",
    "dataset"
   ]
  },
  {
   "cell_type": "code",
   "execution_count": 104,
   "metadata": {},
   "outputs": [],
   "source": [
    "# save target column seperately \n",
    "target=dataset[\"target\"]"
   ]
  },
  {
   "cell_type": "code",
   "execution_count": 105,
   "metadata": {},
   "outputs": [
    {
     "data": {
      "text/plain": [
       "Text(0.5, 1.0, 'Distribution of Target variable')"
      ]
     },
     "execution_count": 105,
     "metadata": {},
     "output_type": "execute_result"
    },
    {
     "data": {
      "image/png": "[encoded data removed]",
      "text/plain": [
       "<Figure size 432x288 with 1 Axes>"
      ]
     },
     "metadata": {
      "needs_background": "light"
     },
     "output_type": "display_data"
    }
   ],
   "source": [
    "# Look for Dist of Target variable \n",
    "plt.hist(target, range=[0, 5])\n",
    "plt.title('Distribution of Target variable')"
   ]
  },
  {
   "cell_type": "code",
   "execution_count": 123,
   "metadata": {},
   "outputs": [
    {
     "name": "stdout",
     "output_type": "stream",
     "text": [
      "         account_tenure_mons  price  acct_app_cnt\n",
      "0                       61.0   9.99           121\n",
      "1                       96.0   1.99           127\n",
      "2                       80.0   1.99           112\n",
      "3                       65.0   9.99           122\n",
      "4                       19.0   0.00            70\n",
      "...                      ...    ...           ...\n",
      "3605239                 -5.0   0.00            64\n",
      "3605240                 81.0  25.99           124\n",
      "3605241                 49.0   0.00           121\n",
      "3605242                 43.0   0.00            64\n",
      "3605243                 87.0  23.99           119\n",
      "\n",
      "[3605244 rows x 3 columns]         device_name    category_name payment_type trans_dow\n",
      "0            iPhone            Games         PMOF         1\n",
      "1            iPhone        Utilities         PMOF         6\n",
      "2            iPhone  Photos & Videos         PMOF         3\n",
      "3              iPad            Games         PMOF         3\n",
      "4            iPhone        Utilities    Free only         5\n",
      "...             ...              ...          ...       ...\n",
      "3605239        iPad            Games    Free only         6\n",
      "3605240        iPad            Games         PMOF         3\n",
      "3605241      iPhone            Games         PMOF         6\n",
      "3605242      iPhone            Games    Free only         3\n",
      "3605243        iPad            Games         PMOF         0\n",
      "\n",
      "[3605244 rows x 4 columns]\n"
     ]
    }
   ],
   "source": [
    "# save numeric and categorical variables into seperate objects\n",
    "num_cols=dataset.select_dtypes(include=[np.number])\n",
    "char_cols=dataset.select_dtypes(include=[np.object])\n",
    "char_cols=char_cols.drop(['target'],axis=1)\n",
    "print(num_cols,char_cols)"
   ]
  },
  {
   "cell_type": "code",
   "execution_count": 124,
   "metadata": {},
   "outputs": [
    {
     "name": "stdout",
     "output_type": "stream",
     "text": [
      "['account_tenure_mons', 'price', 'acct_app_cnt'] ['device_name', 'category_name', 'payment_type', 'trans_dow']\n"
     ]
    }
   ],
   "source": [
    "# save numeric and categorical column names in to seperate list\n",
    "num_vars=[feature for feature in num_cols]\n",
    "char_vars=[feature for feature in char_cols]\n",
    "print(num_vars,char_vars)"
   ]
  },
  {
   "cell_type": "code",
   "execution_count": 125,
   "metadata": {},
   "outputs": [
    {
     "data": {
      "image/png": "[encoded data removed]",
      "text/plain": [
       "<Figure size 432x288 with 1 Axes>"
      ]
     },
     "metadata": {
      "needs_background": "light"
     },
     "output_type": "display_data"
    },
    {
     "data": {
      "image/png": "[encoded data removed]",
      "text/plain": [
       "<Figure size 432x288 with 1 Axes>"
      ]
     },
     "metadata": {
      "needs_background": "light"
     },
     "output_type": "display_data"
    },
    {
     "data": {
      "image/png": "[encoded data removed]",
      "text/plain": [
       "<Figure size 432x288 with 1 Axes>"
      ]
     },
     "metadata": {
      "needs_background": "light"
     },
     "output_type": "display_data"
    },
    {
     "data": {
      "image/png": "[encoded data removed]",
      "text/plain": [
       "<Figure size 432x288 with 1 Axes>"
      ]
     },
     "metadata": {
      "needs_background": "light"
     },
     "output_type": "display_data"
    }
   ],
   "source": [
    "#plot all the categorical variables against the target variable to understand the distribution\n",
    "%matplotlib inline\n",
    "for feature in char_vars:\n",
    "    pd.crosstab(dataset[feature],dataset['target']).plot(kind='bar')\n",
    "    plt.title(feature)\n",
    "    plt.xlabel(feature)\n",
    "    plt.ylabel('Frequency of Target')\n",
    "# plt.savefig('purchase_fre_job')"
   ]
  },
  {
   "cell_type": "code",
   "execution_count": 126,
   "metadata": {},
   "outputs": [
    {
     "data": {
      "image/png": "[encoded data removed]",
      "text/plain": [
       "<Figure size 432x288 with 2 Axes>"
      ]
     },
     "metadata": {
      "needs_background": "light"
     },
     "output_type": "display_data"
    },
    {
     "data": {
      "image/png": "[encoded data removed]",
      "text/plain": [
       "<Figure size 432x288 with 2 Axes>"
      ]
     },
     "metadata": {
      "needs_background": "light"
     },
     "output_type": "display_data"
    },
    {
     "data": {
      "image/png": "[encoded data removed]",
      "text/plain": [
       "<Figure size 432x288 with 2 Axes>"
      ]
     },
     "metadata": {
      "needs_background": "light"
     },
     "output_type": "display_data"
    }
   ],
   "source": [
    "#Visualize the distribution of each numeric variable by target response to check for any observations \n",
    "for feature in num_vars:\n",
    "    dataset[feature].hist(by=dataset['target'])\n",
    "    plt.xlabel('target')\n",
    "    plt.ylabel(\"Count\")\n",
    "    plt.title(feature)\n",
    "    plt.show()"
   ]
  },
  {
   "cell_type": "code",
   "execution_count": 127,
   "metadata": {},
   "outputs": [
    {
     "data": {
      "image/png": "[encoded data removed]",
      "text/plain": [
       "<Figure size 432x288 with 1 Axes>"
      ]
     },
     "metadata": {
      "needs_background": "light"
     },
     "output_type": "display_data"
    },
    {
     "data": {
      "image/png": "[encoded data removed]",
      "text/plain": [
       "<Figure size 432x288 with 1 Axes>"
      ]
     },
     "metadata": {
      "needs_background": "light"
     },
     "output_type": "display_data"
    },
    {
     "data": {
      "image/png": "[encoded data removed]",
      "text/plain": [
       "<Figure size 432x288 with 1 Axes>"
      ]
     },
     "metadata": {
      "needs_background": "light"
     },
     "output_type": "display_data"
    }
   ],
   "source": [
    "#Visualize Distribution of all Numerical variables:\n",
    "for feature in num_vars:\n",
    "    data_cp=dataset.copy()\n",
    "    data_cp[feature].hist(bins=25)\n",
    "    plt.xlabel(feature)\n",
    "    plt.ylabel(\"Count\")\n",
    "    plt.title(feature)\n",
    "    plt.show()"
   ]
  },
  {
   "cell_type": "code",
   "execution_count": 128,
   "metadata": {},
   "outputs": [
    {
     "data": {
      "image/png": "[encoded data removed]",
      "text/plain": [
       "<Figure size 432x288 with 1 Axes>"
      ]
     },
     "metadata": {
      "needs_background": "light"
     },
     "output_type": "display_data"
    },
    {
     "data": {
      "image/png": "[encoded data removed]",
      "text/plain": [
       "<Figure size 432x288 with 1 Axes>"
      ]
     },
     "metadata": {
      "needs_background": "light"
     },
     "output_type": "display_data"
    },
    {
     "data": {
      "image/png": "[encoded data removed]",
      "text/plain": [
       "<Figure size 432x288 with 1 Axes>"
      ]
     },
     "metadata": {
      "needs_background": "light"
     },
     "output_type": "display_data"
    },
    {
     "data": {
      "image/png": "[encoded data removed]",
      "text/plain": [
       "<Figure size 432x288 with 1 Axes>"
      ]
     },
     "metadata": {
      "needs_background": "light"
     },
     "output_type": "display_data"
    },
    {
     "data": {
      "image/png": "[encoded data removed]",
      "text/plain": [
       "<Figure size 432x288 with 1 Axes>"
      ]
     },
     "metadata": {
      "needs_background": "light"
     },
     "output_type": "display_data"
    },
    {
     "data": {
      "image/png": "[encoded data removed]",
      "text/plain": [
       "<Figure size 432x288 with 1 Axes>"
      ]
     },
     "metadata": {
      "needs_background": "light"
     },
     "output_type": "display_data"
    },
    {
     "data": {
      "image/png": "[encoded data removed]",
      "text/plain": [
       "<Figure size 432x288 with 1 Axes>"
      ]
     },
     "metadata": {
      "needs_background": "light"
     },
     "output_type": "display_data"
    },
    {
     "data": {
      "image/png": "[encoded data removed]",
      "text/plain": [
       "<Figure size 432x288 with 1 Axes>"
      ]
     },
     "metadata": {
      "needs_background": "light"
     },
     "output_type": "display_data"
    },
    {
     "data": {
      "image/png": "[encoded data removed]",
      "text/plain": [
       "<Figure size 432x288 with 1 Axes>"
      ]
     },
     "metadata": {
      "needs_background": "light"
     },
     "output_type": "display_data"
    },
    {
     "data": {
      "image/png": "[encoded data removed]",
      "text/plain": [
       "<Figure size 432x288 with 1 Axes>"
      ]
     },
     "metadata": {
      "needs_background": "light"
     },
     "output_type": "display_data"
    },
    {
     "data": {
      "image/png": "[encoded data removed]",
      "text/plain": [
       "<Figure size 432x288 with 1 Axes>"
      ]
     },
     "metadata": {
      "needs_background": "light"
     },
     "output_type": "display_data"
    },
    {
     "data": {
      "image/png": "[encoded data removed]",
      "text/plain": [
       "<Figure size 432x288 with 1 Axes>"
      ]
     },
     "metadata": {
      "needs_background": "light"
     },
     "output_type": "display_data"
    }
   ],
   "source": [
    "#Visualize the Relation between categorical and numeric independent variables\n",
    "for num_feature in num_vars:\n",
    "    for char_feature in char_vars:\n",
    "        data_cp.groupby(char_feature)[num_feature].mean().plot.bar()\n",
    "        plt.xlabel(char_feature)\n",
    "        plt.ylabel(num_feature)\n",
    "        plt.title('char_feature vs num_feature')\n",
    "        plt.show()"
   ]
  },
  {
   "cell_type": "code",
   "execution_count": 129,
   "metadata": {},
   "outputs": [
    {
     "data": {
      "text/html": [
       "<div>\n",
       "<style scoped>\n",
       "    .dataframe tbody tr th:only-of-type {\n",
       "        vertical-align: middle;\n",
       "    }\n",
       "\n",
       "    .dataframe tbody tr th {\n",
       "        vertical-align: top;\n",
       "    }\n",
       "\n",
       "    .dataframe thead th {\n",
       "        text-align: right;\n",
       "    }\n",
       "</style>\n",
       "<table border=\"1\" class=\"dataframe\">\n",
       "  <thead>\n",
       "    <tr style=\"text-align: right;\">\n",
       "      <th></th>\n",
       "      <th>account_tenure_mons</th>\n",
       "      <th>price</th>\n",
       "      <th>acct_app_cnt</th>\n",
       "    </tr>\n",
       "  </thead>\n",
       "  <tbody>\n",
       "    <tr>\n",
       "      <td>account_tenure_mons</td>\n",
       "      <td>1.000000</td>\n",
       "      <td>0.442162</td>\n",
       "      <td>0.420667</td>\n",
       "    </tr>\n",
       "    <tr>\n",
       "      <td>price</td>\n",
       "      <td>0.442162</td>\n",
       "      <td>1.000000</td>\n",
       "      <td>0.276949</td>\n",
       "    </tr>\n",
       "    <tr>\n",
       "      <td>acct_app_cnt</td>\n",
       "      <td>0.420667</td>\n",
       "      <td>0.276949</td>\n",
       "      <td>1.000000</td>\n",
       "    </tr>\n",
       "  </tbody>\n",
       "</table>\n",
       "</div>"
      ],
      "text/plain": [
       "                     account_tenure_mons     price  acct_app_cnt\n",
       "account_tenure_mons             1.000000  0.442162      0.420667\n",
       "price                           0.442162  1.000000      0.276949\n",
       "acct_app_cnt                    0.420667  0.276949      1.000000"
      ]
     },
     "execution_count": 129,
     "metadata": {},
     "output_type": "execute_result"
    },
    {
     "data": {
      "image/png": "[encoded data removed]",
      "text/plain": [
       "<Figure size 432x288 with 2 Axes>"
      ]
     },
     "metadata": {
      "needs_background": "light"
     },
     "output_type": "display_data"
    }
   ],
   "source": [
    "#check for correlation among all the input numeric variables to make sure we are not violating the assumptions of logistic regression\n",
    "#correlation Matrix - we dont see any 2 variables being highly correlated\n",
    "corr=dataset.corr()\n",
    "sns.heatmap(corr, annot=True)\n",
    "corr.abs()"
   ]
  },
  {
   "cell_type": "code",
   "execution_count": 130,
   "metadata": {},
   "outputs": [
    {
     "data": {
      "text/plain": [
       "account_tenure_mons    2741\n",
       "price                     0\n",
       "acct_app_cnt              0\n",
       "device_name               0\n",
       "category_name             0\n",
       "payment_type           2741\n",
       "trans_dow                 0\n",
       "target                    0\n",
       "dtype: int64"
      ]
     },
     "execution_count": 130,
     "metadata": {},
     "output_type": "execute_result"
    }
   ],
   "source": [
    "# check for the null values in the data set. \n",
    "# we have 2,741 trasactions as NULLS because 25 accounts that had a transaction were not found in account_dat.csv file\n",
    "dataset.isnull().sum()"
   ]
  },
  {
   "cell_type": "code",
   "execution_count": 131,
   "metadata": {},
   "outputs": [
    {
     "data": {
      "text/plain": [
       "account_tenure_mons    float64\n",
       "price                  float64\n",
       "acct_app_cnt             int64\n",
       "device_name             object\n",
       "category_name           object\n",
       "payment_type            object\n",
       "trans_dow               object\n",
       "target                  object\n",
       "dtype: object"
      ]
     },
     "execution_count": 131,
     "metadata": {},
     "output_type": "execute_result"
    }
   ],
   "source": [
    "\n",
    "#  Handle Missing Values\n",
    "dataset1=dataset.copy()\n",
    "\n",
    "# Numeric Imputation for account_tenure_mons column using mean\n",
    "dataset1['account_tenure_mons'].fillna(dataset1['account_tenure_mons'].mean(), inplace = True)\n",
    "\n",
    "# Categorical Imputation for payment_type column by categorizing them as \"Missing\"\n",
    "dataset1[\"payment_type\"].fillna(\"Missing\", inplace = True)\n",
    "\n",
    "# we dont have any more nulls in the dataset\n",
    "# dataset1.isnull().sum()\n",
    "dataset1.dtypes"
   ]
  },
  {
   "cell_type": "code",
   "execution_count": 133,
   "metadata": {},
   "outputs": [
    {
     "data": {
      "text/plain": [
       "['device_name_iPhone',\n",
       " 'category_name_Entertainment',\n",
       " 'category_name_Games',\n",
       " 'category_name_Photos & Videos',\n",
       " 'category_name_Social Networking',\n",
       " 'payment_type_Free only',\n",
       " 'payment_type_PMOF',\n",
       " 'trans_dow_0',\n",
       " 'trans_dow_6']"
      ]
     },
     "execution_count": 133,
     "metadata": {},
     "output_type": "execute_result"
    }
   ],
   "source": [
    "# create dummy variables for categorical variables to be able to use them in the logistic regression\n",
    "dataset2= pd.get_dummies(data=dataset1,columns=char_vars, drop_first=False)\n",
    "binned_vars=[feature for feature in dataset2 if len(dataset2[feature].unique())<=2 ]\n",
    "binned_vars.remove('target')\n",
    "# remove the below binary variables because we dont need them\n",
    "binned_vars.remove('category_name_Utilities')\n",
    "binned_vars.remove('device_name_iPad')\n",
    "binned_vars.remove('payment_type_Missing')\n",
    "binned_vars.remove('trans_dow_1')\n",
    "binned_vars.remove('trans_dow_2')\n",
    "binned_vars.remove('trans_dow_3')\n",
    "binned_vars.remove('trans_dow_4')\n",
    "binned_vars.remove('trans_dow_5')\n",
    "binned_vars"
   ]
  },
  {
   "cell_type": "code",
   "execution_count": 134,
   "metadata": {},
   "outputs": [
    {
     "name": "stdout",
     "output_type": "stream",
     "text": [
      "(2523670, 12) (2523670,)\n",
      "(1081574, 12) (1081574,)\n"
     ]
    }
   ],
   "source": [
    "#split the data set into training (70%) and testing (30%) datasets \n",
    "\n",
    "columns=num_vars + binned_vars \n",
    "dataset_model = pd.DataFrame(dataset2,columns=columns)\n",
    "y=dataset2.target\n",
    "X_train, X_test, y_train, y_test = train_test_split(dataset_model, y, test_size=0.3)\n",
    "print(X_train.shape, y_train.shape)\n",
    "print(X_test.shape, y_test.shape)"
   ]
  },
  {
   "cell_type": "code",
   "execution_count": 135,
   "metadata": {},
   "outputs": [
    {
     "name": "stdout",
     "output_type": "stream",
     "text": [
      "Warning: Maximum number of iterations has been exceeded.\n",
      "         Current function value: 0.235127\n",
      "         Iterations: 35\n"
     ]
    },
    {
     "name": "stderr",
     "output_type": "stream",
     "text": [
      "/Users/bmolaka/anaconda3/lib/python3.7/site-packages/statsmodels/base/model.py:512: ConvergenceWarning: Maximum Likelihood optimization failed to converge. Check mle_retvals\n",
      "  \"Check mle_retvals\", ConvergenceWarning)\n"
     ]
    },
    {
     "name": "stdout",
     "output_type": "stream",
     "text": [
      "                                   Results: Logit\n",
      "====================================================================================\n",
      "Model:                     Logit                 Pseudo R-squared:      0.657       \n",
      "Dependent Variable:        target                AIC:                   1186790.7077\n",
      "Date:                      2021-10-28 06:59      BIC:                   1186943.6024\n",
      "No. Observations:          2523670               Log-Likelihood:        -5.9338e+05 \n",
      "Df Model:                  11                    LL-Null:               -1.7320e+06 \n",
      "Df Residuals:              2523658               LLR p-value:           0.0000      \n",
      "Converged:                 0.0000                Scale:                 1.0000      \n",
      "No. Iterations:            35.0000                                                  \n",
      "------------------------------------------------------------------------------------\n",
      "                                 Coef.   Std.Err.    z     P>|z|    [0.025   0.975] \n",
      "------------------------------------------------------------------------------------\n",
      "account_tenure_mons              -0.0011   0.0001  -8.5642 0.0000   -0.0014  -0.0008\n",
      "price                             0.3263   0.0008 393.8809 0.0000    0.3247   0.3280\n",
      "acct_app_cnt                      0.0077   0.0001 125.7143 0.0000    0.0076   0.0078\n",
      "device_name_iPhone               -0.1258   0.0051 -24.6840 0.0000   -0.1358  -0.1158\n",
      "category_name_Entertainment       0.0800   0.0097   8.2703 0.0000    0.0610   0.0989\n",
      "category_name_Games              -0.3930   0.0073 -53.8387 0.0000   -0.4073  -0.3787\n",
      "category_name_Photos & Videos     0.5562   0.0083  67.0770 0.0000    0.5400   0.5725\n",
      "category_name_Social Networking   0.6062   0.0133  45.6573 0.0000    0.5802   0.6323\n",
      "payment_type_Free only          -24.4058 169.2687  -0.1442 0.8854 -356.1663 307.3547\n",
      "payment_type_PMOF                -0.7353   0.0148 -49.6275 0.0000   -0.7643  -0.7062\n",
      "trans_dow_0                       0.0563   0.0065   8.6739 0.0000    0.0436   0.0691\n",
      "trans_dow_6                       0.0688   0.0065  10.5421 0.0000    0.0560   0.0815\n",
      "====================================================================================\n",
      "\n"
     ]
    }
   ],
   "source": [
    "# Build Logistic Regression Model and summarize the results\n",
    "logit_model=sm.Logit(y_train.astype(float),X_train.astype(float))\n",
    "logit_model\n",
    "result=logit_model.fit()\n",
    "print(result.summary2())"
   ]
  },
  {
   "cell_type": "code",
   "execution_count": 136,
   "metadata": {},
   "outputs": [
    {
     "name": "stdout",
     "output_type": "stream",
     "text": [
      "                                            5%            95%    Odds Ratio\n",
      "account_tenure_mons               9.986504e-01   9.991529e-01  9.989016e-01\n",
      "price                             1.383632e+00   1.388133e+00  1.385881e+00\n",
      "acct_app_cnt                      1.007627e+00   1.007869e+00  1.007748e+00\n",
      "device_name_iPhone                8.730126e-01   8.906308e-01  8.817777e-01\n",
      "category_name_Entertainment       1.062918e+00   1.103980e+00  1.083254e+00\n",
      "category_name_Games               6.654177e-01   6.847345e-01  6.750070e-01\n",
      "category_name_Photos & Videos     1.715966e+00   1.772661e+00  1.744083e+00\n",
      "category_name_Social Networking   1.786414e+00   1.881856e+00  1.833514e+00\n",
      "payment_type_Free only           2.084302e-155  3.037169e+133  2.516024e-11\n",
      "payment_type_PMOF                 4.656591e-01   4.935035e-01  4.793792e-01\n",
      "trans_dow_0                       1.044580e+00   1.071521e+00  1.057965e+00\n",
      "trans_dow_6                       1.057572e+00   1.084959e+00  1.071178e+00\n"
     ]
    }
   ],
   "source": [
    "# Out the Odds Ratios (with confidence intervals) for each input column to get insights and interpret the model output \n",
    "params = result.params\n",
    "conf = result.conf_int()\n",
    "conf['Odds Ratio'] = params\n",
    "conf.columns = ['5%', '95%', 'Odds Ratio']\n",
    "conf_odds=print(np.exp(conf))\n",
    "conf_odds"
   ]
  },
  {
   "cell_type": "code",
   "execution_count": 137,
   "metadata": {},
   "outputs": [
    {
     "name": "stderr",
     "output_type": "stream",
     "text": [
      "/Users/bmolaka/anaconda3/lib/python3.7/site-packages/sklearn/linear_model/logistic.py:432: FutureWarning: Default solver will be changed to 'lbfgs' in 0.22. Specify a solver to silence this warning.\n",
      "  FutureWarning)\n"
     ]
    },
    {
     "data": {
      "text/plain": [
       "LogisticRegression(C=1.0, class_weight=None, dual=False, fit_intercept=True,\n",
       "                   intercept_scaling=1, l1_ratio=None, max_iter=100,\n",
       "                   multi_class='warn', n_jobs=None, penalty='l2',\n",
       "                   random_state=None, solver='warn', tol=0.0001, verbose=0,\n",
       "                   warm_start=False)"
      ]
     },
     "execution_count": 137,
     "metadata": {},
     "output_type": "execute_result"
    }
   ],
   "source": [
    "#Fit the model on the training data set for prediction purposes\n",
    "logreg = LogisticRegression()\n",
    "logreg.fit(X_train, y_train)"
   ]
  },
  {
   "cell_type": "code",
   "execution_count": 65,
   "metadata": {},
   "outputs": [
    {
     "name": "stdout",
     "output_type": "stream",
     "text": [
      "Accuracy of logistic regression classifier on test set: 0.91\n"
     ]
    }
   ],
   "source": [
    "# Calculate the accuracy of the model\n",
    "y_pred = logreg.predict(X_test)\n",
    "print('Accuracy of logistic regression classifier on test set: {:.2f}'.format(logreg.score(X_test, y_test)))"
   ]
  },
  {
   "cell_type": "code",
   "execution_count": 138,
   "metadata": {},
   "outputs": [
    {
     "name": "stdout",
     "output_type": "stream",
     "text": [
      "[[181073 297531]\n",
      " [227709 375261]]\n"
     ]
    }
   ],
   "source": [
    "# Output the confusion matrix based on the actuals and predictions from the model\n",
    "from sklearn.metrics import confusion_matrix\n",
    "confusion_matrix = confusion_matrix(y_test, y_pred)\n",
    "print(confusion_matrix)"
   ]
  },
  {
   "cell_type": "code",
   "execution_count": 139,
   "metadata": {},
   "outputs": [
    {
     "name": "stdout",
     "output_type": "stream",
     "text": [
      "              precision    recall  f1-score   support\n",
      "\n",
      "           0       0.44      0.38      0.41    478604\n",
      "           1       0.56      0.62      0.59    602970\n",
      "\n",
      "    accuracy                           0.51   1081574\n",
      "   macro avg       0.50      0.50      0.50   1081574\n",
      "weighted avg       0.51      0.51      0.51   1081574\n",
      "\n"
     ]
    }
   ],
   "source": [
    "# Output the model evaluation metrics like accuracy, precision, recall, F1 score using above confusion matrix\n",
    "from sklearn.metrics import classification_report\n",
    "print(classification_report(y_test, y_pred))"
   ]
  },
  {
   "cell_type": "code",
   "execution_count": 141,
   "metadata": {},
   "outputs": [
    {
     "data": {
      "image/png": "[encoded data removed]",
      "text/plain": [
       "<Figure size 432x288 with 1 Axes>"
      ]
     },
     "metadata": {
      "needs_background": "light"
     },
     "output_type": "display_data"
    }
   ],
   "source": [
    "# Plot the Roc curve using the above stats along with the AUC(Area under the curve) metric\n",
    "logit_roc_auc = roc_auc_score(y_test.astype(float), logreg.predict(X_test).astype(float))\n",
    "fpr, tpr, thresholds = roc_curve(y_test.astype(float), logreg.predict_proba(X_test.astype(float))[:,1])\n",
    "plt.figure()\n",
    "plt.plot(fpr, tpr, label='Logistic Regression (area = %0.2f)' % logit_roc_auc)\n",
    "plt.plot([0, 1], [0, 1],'r--')\n",
    "plt.xlim([0.0, 1.0])\n",
    "plt.ylim([0.0, 1.05])\n",
    "plt.xlabel('False Positive Rate')\n",
    "plt.ylabel('True Positive Rate')\n",
    "plt.title('Receiver operating characteristic')\n",
    "plt.legend(loc=\"lower right\")\n",
    "plt.savefig('Log_ROC')\n",
    "plt.show()"
   ]
  },
  {
   "cell_type": "markdown",
   "metadata": {},
   "source": [
    "## Please refer to the power point presentation for detailed explanation and interpretation of this model output"
   ]
  }
 ],
 "metadata": {
  "kernelspec": {
   "display_name": "Python 3",
   "language": "python",
   "name": "python3"
  },
  "language_info": {
   "codemirror_mode": {
    "name": "ipython",
    "version": 3
   },
   "file_extension": ".py",
   "mimetype": "text/x-python",
   "name": "python",
   "nbconvert_exporter": "python",
   "pygments_lexer": "ipython3",
   "version": "3.7.3"
  }
 },
 "nbformat": 4,
 "nbformat_minor": 2
}
